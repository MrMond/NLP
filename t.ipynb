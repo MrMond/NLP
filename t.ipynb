{
 "cells": [
  {
   "cell_type": "code",
   "execution_count": 7,
   "metadata": {},
   "outputs": [
    {
     "name": "stdout",
     "output_type": "stream",
     "text": [
      "2025-01-09\n",
      "2025-01-09\n",
      "True\n"
     ]
    }
   ],
   "source": [
    "import os\n",
    "from datetime import date, datetime\n",
    "try:\n",
    "    with open(os.path.join(os.getcwd(),\"vector_storage\",\"timestamp.txt\"),\"r\") as of:\n",
    "            print(date.today()==datetime.strptime(of.readline(),\"%d/%m/%Y\").date())\n",
    "except:\n",
    "      print(\"failed\")"
   ]
  }
 ],
 "metadata": {
  "kernelspec": {
   "display_name": "venv",
   "language": "python",
   "name": "python3"
  },
  "language_info": {
   "codemirror_mode": {
    "name": "ipython",
    "version": 3
   },
   "file_extension": ".py",
   "mimetype": "text/x-python",
   "name": "python",
   "nbconvert_exporter": "python",
   "pygments_lexer": "ipython3",
   "version": "3.12.4"
  }
 },
 "nbformat": 4,
 "nbformat_minor": 2
}
